{
 "cells": [
  {
   "cell_type": "code",
   "execution_count": 1,
   "id": "052b3ce2",
   "metadata": {},
   "outputs": [],
   "source": [
    "import pandas as pd\n",
    "import numpy as np\n",
    "import matplotlib.pyplot as plt\n",
    "from sklearn.model_selection import train_test_split,GridSearchCV\n",
    "from sklearn.preprocessing import StandardScaler\n",
    "from sklearn.linear_model import LinearRegression,Ridge\n",
    "from sklearn.pipeline import make_pipeline\n",
    "from sklearn.metrics import r2_score,mean_squared_error,mean_absolute_percentage_error\n",
    "import time"
   ]
  },
  {
   "cell_type": "code",
   "execution_count": 2,
   "id": "a5faa7b6",
   "metadata": {},
   "outputs": [],
   "source": [
    "Train = pd.read_csv('Dcmd_dataset.csv')"
   ]
  },
  {
   "cell_type": "code",
   "execution_count": 3,
   "id": "81fa0151",
   "metadata": {},
   "outputs": [],
   "source": [
    "x = Train.iloc[:,:-1].values\n",
    "y = Train.iloc[:,-1].values"
   ]
  },
  {
   "cell_type": "code",
   "execution_count": 4,
   "id": "aa1a04d3",
   "metadata": {},
   "outputs": [],
   "source": [
    "X_train,X_test,y_train,y_test = train_test_split(x,y,test_size=0.2,random_state=20)"
   ]
  },
  {
   "cell_type": "code",
   "execution_count": 5,
   "id": "1886206c",
   "metadata": {},
   "outputs": [],
   "source": [
    "scaler = StandardScaler()\n",
    "lr = LinearRegression()\n",
    "pipe = make_pipeline(scaler,lr)"
   ]
  },
  {
   "cell_type": "code",
   "execution_count": 6,
   "id": "97ab4752",
   "metadata": {},
   "outputs": [],
   "source": [
    "initial = time.time()"
   ]
  },
  {
   "cell_type": "code",
   "execution_count": 7,
   "id": "ac1a2c7c",
   "metadata": {},
   "outputs": [
    {
     "data": {
      "text/html": [
       "<style>#sk-container-id-1 {color: black;background-color: white;}#sk-container-id-1 pre{padding: 0;}#sk-container-id-1 div.sk-toggleable {background-color: white;}#sk-container-id-1 label.sk-toggleable__label {cursor: pointer;display: block;width: 100%;margin-bottom: 0;padding: 0.3em;box-sizing: border-box;text-align: center;}#sk-container-id-1 label.sk-toggleable__label-arrow:before {content: \"▸\";float: left;margin-right: 0.25em;color: #696969;}#sk-container-id-1 label.sk-toggleable__label-arrow:hover:before {color: black;}#sk-container-id-1 div.sk-estimator:hover label.sk-toggleable__label-arrow:before {color: black;}#sk-container-id-1 div.sk-toggleable__content {max-height: 0;max-width: 0;overflow: hidden;text-align: left;background-color: #f0f8ff;}#sk-container-id-1 div.sk-toggleable__content pre {margin: 0.2em;color: black;border-radius: 0.25em;background-color: #f0f8ff;}#sk-container-id-1 input.sk-toggleable__control:checked~div.sk-toggleable__content {max-height: 200px;max-width: 100%;overflow: auto;}#sk-container-id-1 input.sk-toggleable__control:checked~label.sk-toggleable__label-arrow:before {content: \"▾\";}#sk-container-id-1 div.sk-estimator input.sk-toggleable__control:checked~label.sk-toggleable__label {background-color: #d4ebff;}#sk-container-id-1 div.sk-label input.sk-toggleable__control:checked~label.sk-toggleable__label {background-color: #d4ebff;}#sk-container-id-1 input.sk-hidden--visually {border: 0;clip: rect(1px 1px 1px 1px);clip: rect(1px, 1px, 1px, 1px);height: 1px;margin: -1px;overflow: hidden;padding: 0;position: absolute;width: 1px;}#sk-container-id-1 div.sk-estimator {font-family: monospace;background-color: #f0f8ff;border: 1px dotted black;border-radius: 0.25em;box-sizing: border-box;margin-bottom: 0.5em;}#sk-container-id-1 div.sk-estimator:hover {background-color: #d4ebff;}#sk-container-id-1 div.sk-parallel-item::after {content: \"\";width: 100%;border-bottom: 1px solid gray;flex-grow: 1;}#sk-container-id-1 div.sk-label:hover label.sk-toggleable__label {background-color: #d4ebff;}#sk-container-id-1 div.sk-serial::before {content: \"\";position: absolute;border-left: 1px solid gray;box-sizing: border-box;top: 0;bottom: 0;left: 50%;z-index: 0;}#sk-container-id-1 div.sk-serial {display: flex;flex-direction: column;align-items: center;background-color: white;padding-right: 0.2em;padding-left: 0.2em;position: relative;}#sk-container-id-1 div.sk-item {position: relative;z-index: 1;}#sk-container-id-1 div.sk-parallel {display: flex;align-items: stretch;justify-content: center;background-color: white;position: relative;}#sk-container-id-1 div.sk-item::before, #sk-container-id-1 div.sk-parallel-item::before {content: \"\";position: absolute;border-left: 1px solid gray;box-sizing: border-box;top: 0;bottom: 0;left: 50%;z-index: -1;}#sk-container-id-1 div.sk-parallel-item {display: flex;flex-direction: column;z-index: 1;position: relative;background-color: white;}#sk-container-id-1 div.sk-parallel-item:first-child::after {align-self: flex-end;width: 50%;}#sk-container-id-1 div.sk-parallel-item:last-child::after {align-self: flex-start;width: 50%;}#sk-container-id-1 div.sk-parallel-item:only-child::after {width: 0;}#sk-container-id-1 div.sk-dashed-wrapped {border: 1px dashed gray;margin: 0 0.4em 0.5em 0.4em;box-sizing: border-box;padding-bottom: 0.4em;background-color: white;}#sk-container-id-1 div.sk-label label {font-family: monospace;font-weight: bold;display: inline-block;line-height: 1.2em;}#sk-container-id-1 div.sk-label-container {text-align: center;}#sk-container-id-1 div.sk-container {/* jupyter's `normalize.less` sets `[hidden] { display: none; }` but bootstrap.min.css set `[hidden] { display: none !important; }` so we also need the `!important` here to be able to override the default hidden behavior on the sphinx rendered scikit-learn.org. See: https://github.com/scikit-learn/scikit-learn/issues/21755 */display: inline-block !important;position: relative;}#sk-container-id-1 div.sk-text-repr-fallback {display: none;}</style><div id=\"sk-container-id-1\" class=\"sk-top-container\"><div class=\"sk-text-repr-fallback\"><pre>Pipeline(steps=[(&#x27;standardscaler&#x27;, StandardScaler()),\n",
       "                (&#x27;linearregression&#x27;, LinearRegression())])</pre><b>In a Jupyter environment, please rerun this cell to show the HTML representation or trust the notebook. <br />On GitHub, the HTML representation is unable to render, please try loading this page with nbviewer.org.</b></div><div class=\"sk-container\" hidden><div class=\"sk-item sk-dashed-wrapped\"><div class=\"sk-label-container\"><div class=\"sk-label sk-toggleable\"><input class=\"sk-toggleable__control sk-hidden--visually\" id=\"sk-estimator-id-1\" type=\"checkbox\" ><label for=\"sk-estimator-id-1\" class=\"sk-toggleable__label sk-toggleable__label-arrow\">Pipeline</label><div class=\"sk-toggleable__content\"><pre>Pipeline(steps=[(&#x27;standardscaler&#x27;, StandardScaler()),\n",
       "                (&#x27;linearregression&#x27;, LinearRegression())])</pre></div></div></div><div class=\"sk-serial\"><div class=\"sk-item\"><div class=\"sk-estimator sk-toggleable\"><input class=\"sk-toggleable__control sk-hidden--visually\" id=\"sk-estimator-id-2\" type=\"checkbox\" ><label for=\"sk-estimator-id-2\" class=\"sk-toggleable__label sk-toggleable__label-arrow\">StandardScaler</label><div class=\"sk-toggleable__content\"><pre>StandardScaler()</pre></div></div></div><div class=\"sk-item\"><div class=\"sk-estimator sk-toggleable\"><input class=\"sk-toggleable__control sk-hidden--visually\" id=\"sk-estimator-id-3\" type=\"checkbox\" ><label for=\"sk-estimator-id-3\" class=\"sk-toggleable__label sk-toggleable__label-arrow\">LinearRegression</label><div class=\"sk-toggleable__content\"><pre>LinearRegression()</pre></div></div></div></div></div></div></div>"
      ],
      "text/plain": [
       "Pipeline(steps=[('standardscaler', StandardScaler()),\n",
       "                ('linearregression', LinearRegression())])"
      ]
     },
     "execution_count": 7,
     "metadata": {},
     "output_type": "execute_result"
    }
   ],
   "source": [
    "pipe.fit(X_train,y_train)"
   ]
  },
  {
   "cell_type": "code",
   "execution_count": 8,
   "id": "4f670173",
   "metadata": {},
   "outputs": [
    {
     "name": "stdout",
     "output_type": "stream",
     "text": [
      "0.04775881767272949\n"
     ]
    }
   ],
   "source": [
    "print(time.time()-initial)"
   ]
  },
  {
   "cell_type": "code",
   "execution_count": 9,
   "id": "58a26f8a",
   "metadata": {},
   "outputs": [],
   "source": [
    "y_pred_test=pipe.predict(X_test)"
   ]
  },
  {
   "cell_type": "code",
   "execution_count": 10,
   "id": "4908d9b9",
   "metadata": {},
   "outputs": [],
   "source": [
    "y_pred_train=pipe.predict(X_train)"
   ]
  },
  {
   "cell_type": "code",
   "execution_count": 11,
   "id": "141d090a",
   "metadata": {},
   "outputs": [
    {
     "name": "stdout",
     "output_type": "stream",
     "text": [
      "0.9470339266450571\n",
      "0.016752506926251482\n",
      "0.03363165608846324\n"
     ]
    }
   ],
   "source": [
    "print(r2_score(y_test,y_pred_test))\n",
    "print(mean_squared_error(y_test,y_pred_test))\n",
    "print(mean_absolute_percentage_error(y_test,y_pred_test))"
   ]
  },
  {
   "cell_type": "code",
   "execution_count": 12,
   "id": "70de23ee",
   "metadata": {},
   "outputs": [
    {
     "name": "stdout",
     "output_type": "stream",
     "text": [
      "0.9561969755027739\n",
      "0.013769929427516446\n",
      "0.026660994612899582\n"
     ]
    }
   ],
   "source": [
    "print(r2_score(y_train,y_pred_train))\n",
    "print(mean_squared_error(y_train,y_pred_train))\n",
    "print(mean_absolute_percentage_error(y_train,y_pred_train))"
   ]
  },
  {
   "cell_type": "code",
   "execution_count": 13,
   "id": "e3b29cb7",
   "metadata": {},
   "outputs": [
    {
     "name": "stdout",
     "output_type": "stream",
     "text": [
      "         Columns     Coefficient Estimate\n",
      "0      Feed Temp                 0.375906\n",
      "1      Feed Flow                 0.340830\n",
      "2  Concentration                -0.208103\n",
      "3  Permiate Temp                -0.158619\n"
     ]
    }
   ],
   "source": [
    "df = pd.DataFrame(X_train, columns = ['Feed Temp', 'Feed Flow' ,'Concentration', 'Permiate Temp'])\n",
    "lreg_coefficient = pd.DataFrame()\n",
    "lreg_coefficient[\"Columns\"] = df.columns\n",
    "lreg_coefficient['   Coefficient Estimate'] = pd.Series(lr.coef_)\n",
    "print(lreg_coefficient)"
   ]
  },
  {
   "cell_type": "code",
   "execution_count": 22,
   "id": "deed5d22",
   "metadata": {},
   "outputs": [
    {
     "data": {
      "image/png": "[encoded data removed]",
      "text/plain": [
       "<Figure size 504x360 with 1 Axes>"
      ]
     },
     "metadata": {},
     "output_type": "display_data"
    }
   ],
   "source": [
    "fig, ax = plt.subplots(figsize =(7, 5))\n",
    "color =['tab:orange', 'tab:blue','tab:brown', 'tab:pink']\n",
    "ax.bar(lreg_coefficient[\"Columns\"],lreg_coefficient['   Coefficient Estimate'],color = color)\n",
    "plt.style.use('seaborn-white')\n",
    "plt.show()"
   ]
  },
  {
   "cell_type": "code",
   "execution_count": 15,
   "id": "0c9bcb1f",
   "metadata": {},
   "outputs": [
    {
     "data": {
      "image/png": "[encoded data removed]",
      "text/plain": [
       "<Figure size 432x288 with 1 Axes>"
      ]
     },
     "metadata": {},
     "output_type": "display_data"
    }
   ],
   "source": [
    "plt.style.use('seaborn-white')\n",
    "x_ax = range(len(y_test))\n",
    "plt.plot(x_ax,y_test,label='original',c='red')\n",
    "plt.plot(x_ax,y_pred_test,label='predicted',c='blue')\n",
    "plt.title(\"For Test Data\")\n",
    "plt.legend()\n",
    "plt.show()"
   ]
  },
  {
   "cell_type": "code",
   "execution_count": 16,
   "id": "98c41dc1",
   "metadata": {},
   "outputs": [
    {
     "data": {
      "image/png": "[encoded data removed]",
      "text/plain": [
       "<Figure size 432x288 with 1 Axes>"
      ]
     },
     "metadata": {},
     "output_type": "display_data"
    }
   ],
   "source": [
    "plt.style.use('seaborn-white')\n",
    "x_ax = range(len(y_train))\n",
    "plt.plot(x_ax,y_train,label='original',c='red')\n",
    "plt.plot(x_ax,y_pred_train,label='predicted',c='blue')\n",
    "plt.title(\"For Train Data\")\n",
    "plt.legend()\n",
    "plt.show()"
   ]
  },
  {
   "cell_type": "code",
   "execution_count": 17,
   "id": "17c05bf2",
   "metadata": {},
   "outputs": [],
   "source": [
    "RD = ((y_pred_train-y_train)*100)/y_train\n",
    "RD1 = ((y_pred_test-y_test)*100)/y_test"
   ]
  },
  {
   "cell_type": "code",
   "execution_count": 21,
   "id": "75a59584",
   "metadata": {},
   "outputs": [
    {
     "data": {
      "image/png": "[encoded data removed]",
      "text/plain": [
       "<Figure size 432x288 with 1 Axes>"
      ]
     },
     "metadata": {},
     "output_type": "display_data"
    }
   ],
   "source": [
    "plt.xlim(2.5,5.5)\n",
    "plt.ylim(-30,30)\n",
    "plt.scatter(y_pred_train,RD,c=\"red\",marker='o',linewidths=2,s=20,label='Train')\n",
    "plt.scatter(y_pred_test,RD1,c=\"blue\",marker='s',linewidths=2,s=20,label='Test')\n",
    "plt.xlabel(\"Permeate flux (g/m^2 .min)\")\n",
    "plt.ylabel(\"Relative Deviation (%)\")\n",
    "plt.title(\"Linear Model\")\n",
    "plt.legend()\n",
    "plt.style.use('seaborn-whitegrid')\n",
    "plt.show()"
   ]
  },
  {
   "cell_type": "code",
   "execution_count": 19,
   "id": "184dd6b6",
   "metadata": {},
   "outputs": [
    {
     "name": "stdout",
     "output_type": "stream",
     "text": [
      "Train data comparasion\n",
      "\n",
      "\n",
      "\n",
      " FT     FF   Con   PT   predicted Actual\n",
      "[[65.    1.   20.   15.    3.64  3.81]\n",
      " [65.    0.8  15.   18.    3.41  3.2 ]\n",
      " [70.    0.8  20.   12.    3.83  3.9 ]\n",
      " [60.    1.2  20.    9.    3.84  3.93]\n",
      " [60.    1.    5.   18.    3.7   3.92]\n",
      " [70.    1.4   5.   15.    5.09  5.14]\n",
      " [65.    1.4  10.    9.    4.82  4.8 ]\n",
      " [60.    1.4  15.   12.    4.18  4.11]\n",
      " [55.    0.8   5.    9.    3.45  3.38]\n",
      " [70.    1.2  10.   18.    4.5   4.41]\n",
      " [70.    1.   15.    9.    4.42  4.33]\n",
      " [55.    1.4  20.   18.    3.4   3.33]]\n"
     ]
    }
   ],
   "source": [
    "np.set_printoptions(precision=2)\n",
    "print(\"Train data comparasion\")\n",
    "print(\"\\n\\n\\n FT     FF   Con   PT   predicted Actual\")\n",
    "print(np.concatenate((X_train,y_pred_train.reshape(len(y_pred_train),1),y_train.reshape(len(y_train),1)),1))"
   ]
  },
  {
   "cell_type": "code",
   "execution_count": 20,
   "id": "6c140d0e",
   "metadata": {},
   "outputs": [
    {
     "name": "stdout",
     "output_type": "stream",
     "text": [
      "Test data comparasion\n",
      "\n",
      "\n",
      "\n",
      " FT     FF   Con   PT   predicted Actual\n",
      "[[65.    1.2   5.   12.    4.59  4.68]\n",
      " [55.    1.   10.   12.    3.43  3.34]\n",
      " [60.    0.8  10.   15.    3.36  3.56]\n",
      " [55.    1.2  15.   15.    3.42  3.31]]\n"
     ]
    }
   ],
   "source": [
    "np.set_printoptions(precision=2)\n",
    "print(\"Test data comparasion\")\n",
    "print(\"\\n\\n\\n FT     FF   Con   PT   predicted Actual\")\n",
    "print(np.concatenate((X_test,y_pred_test.reshape(len(y_pred_test),1),y_test.reshape(len(y_test),1)),1))"
   ]
  },
  {
   "cell_type": "code",
   "execution_count": null,
   "id": "e41cd68b",
   "metadata": {},
   "outputs": [],
   "source": []
  }
 ],
 "metadata": {
  "kernelspec": {
   "display_name": "Python 3 (ipykernel)",
   "language": "python",
   "name": "python3"
  },
  "language_info": {
   "codemirror_mode": {
    "name": "ipython",
    "version": 3
   },
   "file_extension": ".py",
   "mimetype": "text/x-python",
   "name": "python",
   "nbconvert_exporter": "python",
   "pygments_lexer": "ipython3",
   "version": "3.10.6"
  }
 },
 "nbformat": 4,
 "nbformat_minor": 5
}
